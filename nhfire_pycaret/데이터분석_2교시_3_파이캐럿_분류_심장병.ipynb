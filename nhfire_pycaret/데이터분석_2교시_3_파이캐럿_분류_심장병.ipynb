{
 "cells": [
  {
   "cell_type": "markdown",
   "id": "e136d422",
   "metadata": {},
   "source": [
    "## 1. 파이케럿에 데이터를 확인한다"
   ]
  },
  {
   "cell_type": "code",
   "execution_count": 2,
   "id": "b35bb78a",
   "metadata": {},
   "outputs": [],
   "source": [
    "from pycaret.datasets import get_data"
   ]
  },
  {
   "cell_type": "code",
   "execution_count": 3,
   "id": "3ce48b59",
   "metadata": {},
   "outputs": [
    {
     "data": {
      "text/html": [
       "<div>\n",
       "<style scoped>\n",
       "    .dataframe tbody tr th:only-of-type {\n",
       "        vertical-align: middle;\n",
       "    }\n",
       "\n",
       "    .dataframe tbody tr th {\n",
       "        vertical-align: top;\n",
       "    }\n",
       "\n",
       "    .dataframe thead th {\n",
       "        text-align: right;\n",
       "    }\n",
       "</style>\n",
       "<table border=\"1\" class=\"dataframe\">\n",
       "  <thead>\n",
       "    <tr style=\"text-align: right;\">\n",
       "      <th></th>\n",
       "      <th>age</th>\n",
       "      <th>sex</th>\n",
       "      <th>chest pain type</th>\n",
       "      <th>resting blood pressure</th>\n",
       "      <th>serum cholestoral in mg/dl</th>\n",
       "      <th>fasting blood sugar &gt; 120 mg/dl</th>\n",
       "      <th>resting electrocardiographic results</th>\n",
       "      <th>maximum heart rate achieved</th>\n",
       "      <th>exercise induced angina</th>\n",
       "      <th>oldpeak</th>\n",
       "      <th>slope of peak</th>\n",
       "      <th>number of major vessels</th>\n",
       "      <th>thal</th>\n",
       "      <th>Disease</th>\n",
       "    </tr>\n",
       "  </thead>\n",
       "  <tbody>\n",
       "    <tr>\n",
       "      <th>0</th>\n",
       "      <td>70</td>\n",
       "      <td>1</td>\n",
       "      <td>4</td>\n",
       "      <td>130</td>\n",
       "      <td>322</td>\n",
       "      <td>0</td>\n",
       "      <td>2</td>\n",
       "      <td>109</td>\n",
       "      <td>0</td>\n",
       "      <td>2.4</td>\n",
       "      <td>2</td>\n",
       "      <td>3</td>\n",
       "      <td>3</td>\n",
       "      <td>1</td>\n",
       "    </tr>\n",
       "    <tr>\n",
       "      <th>1</th>\n",
       "      <td>67</td>\n",
       "      <td>0</td>\n",
       "      <td>3</td>\n",
       "      <td>115</td>\n",
       "      <td>564</td>\n",
       "      <td>0</td>\n",
       "      <td>2</td>\n",
       "      <td>160</td>\n",
       "      <td>0</td>\n",
       "      <td>1.6</td>\n",
       "      <td>2</td>\n",
       "      <td>0</td>\n",
       "      <td>7</td>\n",
       "      <td>0</td>\n",
       "    </tr>\n",
       "    <tr>\n",
       "      <th>2</th>\n",
       "      <td>57</td>\n",
       "      <td>1</td>\n",
       "      <td>2</td>\n",
       "      <td>124</td>\n",
       "      <td>261</td>\n",
       "      <td>0</td>\n",
       "      <td>0</td>\n",
       "      <td>141</td>\n",
       "      <td>0</td>\n",
       "      <td>0.3</td>\n",
       "      <td>1</td>\n",
       "      <td>0</td>\n",
       "      <td>7</td>\n",
       "      <td>1</td>\n",
       "    </tr>\n",
       "    <tr>\n",
       "      <th>3</th>\n",
       "      <td>64</td>\n",
       "      <td>1</td>\n",
       "      <td>4</td>\n",
       "      <td>128</td>\n",
       "      <td>263</td>\n",
       "      <td>0</td>\n",
       "      <td>0</td>\n",
       "      <td>105</td>\n",
       "      <td>1</td>\n",
       "      <td>0.2</td>\n",
       "      <td>2</td>\n",
       "      <td>1</td>\n",
       "      <td>7</td>\n",
       "      <td>0</td>\n",
       "    </tr>\n",
       "    <tr>\n",
       "      <th>4</th>\n",
       "      <td>74</td>\n",
       "      <td>0</td>\n",
       "      <td>2</td>\n",
       "      <td>120</td>\n",
       "      <td>269</td>\n",
       "      <td>0</td>\n",
       "      <td>2</td>\n",
       "      <td>121</td>\n",
       "      <td>1</td>\n",
       "      <td>0.2</td>\n",
       "      <td>1</td>\n",
       "      <td>1</td>\n",
       "      <td>3</td>\n",
       "      <td>0</td>\n",
       "    </tr>\n",
       "  </tbody>\n",
       "</table>\n",
       "</div>"
      ],
      "text/plain": [
       "   age  sex  chest pain type  resting blood pressure  \\\n",
       "0   70    1                4                     130   \n",
       "1   67    0                3                     115   \n",
       "2   57    1                2                     124   \n",
       "3   64    1                4                     128   \n",
       "4   74    0                2                     120   \n",
       "\n",
       "   serum cholestoral in mg/dl        fasting blood sugar > 120 mg/dl   \\\n",
       "0                               322                                 0   \n",
       "1                               564                                 0   \n",
       "2                               261                                 0   \n",
       "3                               263                                 0   \n",
       "4                               269                                 0   \n",
       "\n",
       "   resting electrocardiographic results  maximum heart rate achieved    \\\n",
       "0                                     2                            109   \n",
       "1                                     2                            160   \n",
       "2                                     0                            141   \n",
       "3                                     0                            105   \n",
       "4                                     2                            121   \n",
       "\n",
       "   exercise induced angina      oldpeak   slope of peak  \\\n",
       "0                            0       2.4              2   \n",
       "1                            0       1.6              2   \n",
       "2                            0       0.3              1   \n",
       "3                            1       0.2              2   \n",
       "4                            1       0.2              1   \n",
       "\n",
       "   number of major vessels   thal  Disease  \n",
       "0                         3     3        1  \n",
       "1                         0     7        0  \n",
       "2                         0     7        1  \n",
       "3                         1     7        0  \n",
       "4                         1     3        0  "
      ]
     },
     "metadata": {},
     "output_type": "display_data"
    }
   ],
   "source": [
    "data = get_data('heart_disease')"
   ]
  },
  {
   "cell_type": "markdown",
   "id": "5cf88974",
   "metadata": {},
   "source": [
    "### 판다스로 사용하기 위해 데이터를 저장"
   ]
  },
  {
   "cell_type": "code",
   "execution_count": 4,
   "id": "e02d7175",
   "metadata": {},
   "outputs": [],
   "source": [
    "data.to_csv(\"../data/heart_disease.csv\", index=False)"
   ]
  },
  {
   "cell_type": "code",
   "execution_count": 5,
   "id": "27195d46",
   "metadata": {},
   "outputs": [
    {
     "data": {
      "text/plain": [
       "(270, 14)"
      ]
     },
     "execution_count": 5,
     "metadata": {},
     "output_type": "execute_result"
    }
   ],
   "source": [
    "data.shape"
   ]
  },
  {
   "cell_type": "code",
   "execution_count": 6,
   "id": "6d7c7186",
   "metadata": {},
   "outputs": [],
   "source": [
    "import pandas as pd"
   ]
  },
  {
   "cell_type": "code",
   "execution_count": 7,
   "id": "00c73c10",
   "metadata": {},
   "outputs": [],
   "source": [
    "df_data = pd.read_csv(\"../data/heart_disease.csv\")"
   ]
  },
  {
   "cell_type": "code",
   "execution_count": 8,
   "id": "cc072bfc",
   "metadata": {},
   "outputs": [
    {
     "data": {
      "text/plain": [
       "(270, 14)"
      ]
     },
     "execution_count": 8,
     "metadata": {},
     "output_type": "execute_result"
    }
   ],
   "source": [
    "df_data.shape"
   ]
  },
  {
   "cell_type": "markdown",
   "id": "c005ab4a",
   "metadata": {},
   "source": [
    "## 2. 파이캐럿 분류 모델 처리하기 "
   ]
  },
  {
   "cell_type": "code",
   "execution_count": 9,
   "id": "9f4e3c14",
   "metadata": {},
   "outputs": [],
   "source": [
    "from pycaret.classification import *"
   ]
  },
  {
   "cell_type": "markdown",
   "id": "94aaabde",
   "metadata": {},
   "source": [
    "## 2-1  데이터 세팅하기 \n",
    "\n",
    "- 특징은 내부에서 데이터 전처리를 전부 수행한다. "
   ]
  },
  {
   "cell_type": "code",
   "execution_count": 10,
   "id": "b6da0387",
   "metadata": {},
   "outputs": [
    {
     "data": {
      "text/html": [
       "<style type=\"text/css\">\n",
       "#T_9565e_row8_col1 {\n",
       "  background-color: lightgreen;\n",
       "}\n",
       "</style>\n",
       "<table id=\"T_9565e\">\n",
       "  <thead>\n",
       "    <tr>\n",
       "      <th class=\"blank level0\" >&nbsp;</th>\n",
       "      <th id=\"T_9565e_level0_col0\" class=\"col_heading level0 col0\" >Description</th>\n",
       "      <th id=\"T_9565e_level0_col1\" class=\"col_heading level0 col1\" >Value</th>\n",
       "    </tr>\n",
       "  </thead>\n",
       "  <tbody>\n",
       "    <tr>\n",
       "      <th id=\"T_9565e_level0_row0\" class=\"row_heading level0 row0\" >0</th>\n",
       "      <td id=\"T_9565e_row0_col0\" class=\"data row0 col0\" >Session id</td>\n",
       "      <td id=\"T_9565e_row0_col1\" class=\"data row0 col1\" >5908</td>\n",
       "    </tr>\n",
       "    <tr>\n",
       "      <th id=\"T_9565e_level0_row1\" class=\"row_heading level0 row1\" >1</th>\n",
       "      <td id=\"T_9565e_row1_col0\" class=\"data row1 col0\" >Target</td>\n",
       "      <td id=\"T_9565e_row1_col1\" class=\"data row1 col1\" >Disease</td>\n",
       "    </tr>\n",
       "    <tr>\n",
       "      <th id=\"T_9565e_level0_row2\" class=\"row_heading level0 row2\" >2</th>\n",
       "      <td id=\"T_9565e_row2_col0\" class=\"data row2 col0\" >Target type</td>\n",
       "      <td id=\"T_9565e_row2_col1\" class=\"data row2 col1\" >Binary</td>\n",
       "    </tr>\n",
       "    <tr>\n",
       "      <th id=\"T_9565e_level0_row3\" class=\"row_heading level0 row3\" >3</th>\n",
       "      <td id=\"T_9565e_row3_col0\" class=\"data row3 col0\" >Original data shape</td>\n",
       "      <td id=\"T_9565e_row3_col1\" class=\"data row3 col1\" >(270, 14)</td>\n",
       "    </tr>\n",
       "    <tr>\n",
       "      <th id=\"T_9565e_level0_row4\" class=\"row_heading level0 row4\" >4</th>\n",
       "      <td id=\"T_9565e_row4_col0\" class=\"data row4 col0\" >Transformed data shape</td>\n",
       "      <td id=\"T_9565e_row4_col1\" class=\"data row4 col1\" >(270, 14)</td>\n",
       "    </tr>\n",
       "    <tr>\n",
       "      <th id=\"T_9565e_level0_row5\" class=\"row_heading level0 row5\" >5</th>\n",
       "      <td id=\"T_9565e_row5_col0\" class=\"data row5 col0\" >Transformed train set shape</td>\n",
       "      <td id=\"T_9565e_row5_col1\" class=\"data row5 col1\" >(189, 14)</td>\n",
       "    </tr>\n",
       "    <tr>\n",
       "      <th id=\"T_9565e_level0_row6\" class=\"row_heading level0 row6\" >6</th>\n",
       "      <td id=\"T_9565e_row6_col0\" class=\"data row6 col0\" >Transformed test set shape</td>\n",
       "      <td id=\"T_9565e_row6_col1\" class=\"data row6 col1\" >(81, 14)</td>\n",
       "    </tr>\n",
       "    <tr>\n",
       "      <th id=\"T_9565e_level0_row7\" class=\"row_heading level0 row7\" >7</th>\n",
       "      <td id=\"T_9565e_row7_col0\" class=\"data row7 col0\" >Numeric features</td>\n",
       "      <td id=\"T_9565e_row7_col1\" class=\"data row7 col1\" >13</td>\n",
       "    </tr>\n",
       "    <tr>\n",
       "      <th id=\"T_9565e_level0_row8\" class=\"row_heading level0 row8\" >8</th>\n",
       "      <td id=\"T_9565e_row8_col0\" class=\"data row8 col0\" >Preprocess</td>\n",
       "      <td id=\"T_9565e_row8_col1\" class=\"data row8 col1\" >True</td>\n",
       "    </tr>\n",
       "    <tr>\n",
       "      <th id=\"T_9565e_level0_row9\" class=\"row_heading level0 row9\" >9</th>\n",
       "      <td id=\"T_9565e_row9_col0\" class=\"data row9 col0\" >Imputation type</td>\n",
       "      <td id=\"T_9565e_row9_col1\" class=\"data row9 col1\" >simple</td>\n",
       "    </tr>\n",
       "    <tr>\n",
       "      <th id=\"T_9565e_level0_row10\" class=\"row_heading level0 row10\" >10</th>\n",
       "      <td id=\"T_9565e_row10_col0\" class=\"data row10 col0\" >Numeric imputation</td>\n",
       "      <td id=\"T_9565e_row10_col1\" class=\"data row10 col1\" >mean</td>\n",
       "    </tr>\n",
       "    <tr>\n",
       "      <th id=\"T_9565e_level0_row11\" class=\"row_heading level0 row11\" >11</th>\n",
       "      <td id=\"T_9565e_row11_col0\" class=\"data row11 col0\" >Categorical imputation</td>\n",
       "      <td id=\"T_9565e_row11_col1\" class=\"data row11 col1\" >mode</td>\n",
       "    </tr>\n",
       "    <tr>\n",
       "      <th id=\"T_9565e_level0_row12\" class=\"row_heading level0 row12\" >12</th>\n",
       "      <td id=\"T_9565e_row12_col0\" class=\"data row12 col0\" >Fold Generator</td>\n",
       "      <td id=\"T_9565e_row12_col1\" class=\"data row12 col1\" >StratifiedKFold</td>\n",
       "    </tr>\n",
       "    <tr>\n",
       "      <th id=\"T_9565e_level0_row13\" class=\"row_heading level0 row13\" >13</th>\n",
       "      <td id=\"T_9565e_row13_col0\" class=\"data row13 col0\" >Fold Number</td>\n",
       "      <td id=\"T_9565e_row13_col1\" class=\"data row13 col1\" >10</td>\n",
       "    </tr>\n",
       "    <tr>\n",
       "      <th id=\"T_9565e_level0_row14\" class=\"row_heading level0 row14\" >14</th>\n",
       "      <td id=\"T_9565e_row14_col0\" class=\"data row14 col0\" >CPU Jobs</td>\n",
       "      <td id=\"T_9565e_row14_col1\" class=\"data row14 col1\" >-1</td>\n",
       "    </tr>\n",
       "    <tr>\n",
       "      <th id=\"T_9565e_level0_row15\" class=\"row_heading level0 row15\" >15</th>\n",
       "      <td id=\"T_9565e_row15_col0\" class=\"data row15 col0\" >Use GPU</td>\n",
       "      <td id=\"T_9565e_row15_col1\" class=\"data row15 col1\" >False</td>\n",
       "    </tr>\n",
       "    <tr>\n",
       "      <th id=\"T_9565e_level0_row16\" class=\"row_heading level0 row16\" >16</th>\n",
       "      <td id=\"T_9565e_row16_col0\" class=\"data row16 col0\" >Log Experiment</td>\n",
       "      <td id=\"T_9565e_row16_col1\" class=\"data row16 col1\" >False</td>\n",
       "    </tr>\n",
       "    <tr>\n",
       "      <th id=\"T_9565e_level0_row17\" class=\"row_heading level0 row17\" >17</th>\n",
       "      <td id=\"T_9565e_row17_col0\" class=\"data row17 col0\" >Experiment Name</td>\n",
       "      <td id=\"T_9565e_row17_col1\" class=\"data row17 col1\" >clf-default-name</td>\n",
       "    </tr>\n",
       "    <tr>\n",
       "      <th id=\"T_9565e_level0_row18\" class=\"row_heading level0 row18\" >18</th>\n",
       "      <td id=\"T_9565e_row18_col0\" class=\"data row18 col0\" >USI</td>\n",
       "      <td id=\"T_9565e_row18_col1\" class=\"data row18 col1\" >00b7</td>\n",
       "    </tr>\n",
       "  </tbody>\n",
       "</table>\n"
      ],
      "text/plain": [
       "<pandas.io.formats.style.Styler at 0x166b5f910>"
      ]
     },
     "metadata": {},
     "output_type": "display_data"
    }
   ],
   "source": [
    "model1 = setup(data = data, target = 'Disease')"
   ]
  },
  {
   "cell_type": "markdown",
   "id": "811e2a2b",
   "metadata": {},
   "source": [
    "## 2-2 분류 모델 "
   ]
  },
  {
   "cell_type": "code",
   "execution_count": 11,
   "id": "0d5e7c40",
   "metadata": {},
   "outputs": [],
   "source": [
    "all_metrics = get_metrics()"
   ]
  },
  {
   "cell_type": "code",
   "execution_count": 12,
   "id": "e792d5ab",
   "metadata": {},
   "outputs": [
    {
     "data": {
      "text/html": [
       "<div>\n",
       "<style scoped>\n",
       "    .dataframe tbody tr th:only-of-type {\n",
       "        vertical-align: middle;\n",
       "    }\n",
       "\n",
       "    .dataframe tbody tr th {\n",
       "        vertical-align: top;\n",
       "    }\n",
       "\n",
       "    .dataframe thead th {\n",
       "        text-align: right;\n",
       "    }\n",
       "</style>\n",
       "<table border=\"1\" class=\"dataframe\">\n",
       "  <thead>\n",
       "    <tr style=\"text-align: right;\">\n",
       "      <th></th>\n",
       "      <th>Name</th>\n",
       "      <th>Display Name</th>\n",
       "      <th>Score Function</th>\n",
       "      <th>Scorer</th>\n",
       "      <th>Target</th>\n",
       "      <th>Args</th>\n",
       "      <th>Greater is Better</th>\n",
       "      <th>Multiclass</th>\n",
       "      <th>Custom</th>\n",
       "    </tr>\n",
       "    <tr>\n",
       "      <th>ID</th>\n",
       "      <th></th>\n",
       "      <th></th>\n",
       "      <th></th>\n",
       "      <th></th>\n",
       "      <th></th>\n",
       "      <th></th>\n",
       "      <th></th>\n",
       "      <th></th>\n",
       "      <th></th>\n",
       "    </tr>\n",
       "  </thead>\n",
       "  <tbody>\n",
       "    <tr>\n",
       "      <th>acc</th>\n",
       "      <td>Accuracy</td>\n",
       "      <td>Accuracy</td>\n",
       "      <td>&lt;function accuracy_score at 0x15f8fb670&gt;</td>\n",
       "      <td>accuracy</td>\n",
       "      <td>pred</td>\n",
       "      <td>{}</td>\n",
       "      <td>True</td>\n",
       "      <td>True</td>\n",
       "      <td>False</td>\n",
       "    </tr>\n",
       "    <tr>\n",
       "      <th>auc</th>\n",
       "      <td>AUC</td>\n",
       "      <td>AUC</td>\n",
       "      <td>&lt;pycaret.internal.metrics.BinaryMulticlassScor...</td>\n",
       "      <td>make_scorer(roc_auc_score, needs_proba=True, e...</td>\n",
       "      <td>pred_proba</td>\n",
       "      <td>{'average': 'weighted', 'multi_class': 'ovr'}</td>\n",
       "      <td>True</td>\n",
       "      <td>True</td>\n",
       "      <td>False</td>\n",
       "    </tr>\n",
       "    <tr>\n",
       "      <th>recall</th>\n",
       "      <td>Recall</td>\n",
       "      <td>Recall</td>\n",
       "      <td>&lt;pycaret.internal.metrics.BinaryMulticlassScor...</td>\n",
       "      <td>make_scorer(recall_score, average=weighted)</td>\n",
       "      <td>pred</td>\n",
       "      <td>{'average': 'weighted'}</td>\n",
       "      <td>True</td>\n",
       "      <td>True</td>\n",
       "      <td>False</td>\n",
       "    </tr>\n",
       "    <tr>\n",
       "      <th>precision</th>\n",
       "      <td>Precision</td>\n",
       "      <td>Prec.</td>\n",
       "      <td>&lt;pycaret.internal.metrics.BinaryMulticlassScor...</td>\n",
       "      <td>make_scorer(precision_score, average=weighted)</td>\n",
       "      <td>pred</td>\n",
       "      <td>{'average': 'weighted'}</td>\n",
       "      <td>True</td>\n",
       "      <td>True</td>\n",
       "      <td>False</td>\n",
       "    </tr>\n",
       "    <tr>\n",
       "      <th>f1</th>\n",
       "      <td>F1</td>\n",
       "      <td>F1</td>\n",
       "      <td>&lt;pycaret.internal.metrics.BinaryMulticlassScor...</td>\n",
       "      <td>make_scorer(f1_score, average=weighted)</td>\n",
       "      <td>pred</td>\n",
       "      <td>{'average': 'weighted'}</td>\n",
       "      <td>True</td>\n",
       "      <td>True</td>\n",
       "      <td>False</td>\n",
       "    </tr>\n",
       "    <tr>\n",
       "      <th>kappa</th>\n",
       "      <td>Kappa</td>\n",
       "      <td>Kappa</td>\n",
       "      <td>&lt;function cohen_kappa_score at 0x15f8fb820&gt;</td>\n",
       "      <td>make_scorer(cohen_kappa_score)</td>\n",
       "      <td>pred</td>\n",
       "      <td>{}</td>\n",
       "      <td>True</td>\n",
       "      <td>True</td>\n",
       "      <td>False</td>\n",
       "    </tr>\n",
       "    <tr>\n",
       "      <th>mcc</th>\n",
       "      <td>MCC</td>\n",
       "      <td>MCC</td>\n",
       "      <td>&lt;function matthews_corrcoef at 0x15f8fb940&gt;</td>\n",
       "      <td>make_scorer(matthews_corrcoef)</td>\n",
       "      <td>pred</td>\n",
       "      <td>{}</td>\n",
       "      <td>True</td>\n",
       "      <td>True</td>\n",
       "      <td>False</td>\n",
       "    </tr>\n",
       "  </tbody>\n",
       "</table>\n",
       "</div>"
      ],
      "text/plain": [
       "                Name Display Name  \\\n",
       "ID                                  \n",
       "acc         Accuracy     Accuracy   \n",
       "auc              AUC          AUC   \n",
       "recall        Recall       Recall   \n",
       "precision  Precision        Prec.   \n",
       "f1                F1           F1   \n",
       "kappa          Kappa        Kappa   \n",
       "mcc              MCC          MCC   \n",
       "\n",
       "                                              Score Function  \\\n",
       "ID                                                             \n",
       "acc                 <function accuracy_score at 0x15f8fb670>   \n",
       "auc        <pycaret.internal.metrics.BinaryMulticlassScor...   \n",
       "recall     <pycaret.internal.metrics.BinaryMulticlassScor...   \n",
       "precision  <pycaret.internal.metrics.BinaryMulticlassScor...   \n",
       "f1         <pycaret.internal.metrics.BinaryMulticlassScor...   \n",
       "kappa            <function cohen_kappa_score at 0x15f8fb820>   \n",
       "mcc              <function matthews_corrcoef at 0x15f8fb940>   \n",
       "\n",
       "                                                      Scorer      Target  \\\n",
       "ID                                                                         \n",
       "acc                                                 accuracy        pred   \n",
       "auc        make_scorer(roc_auc_score, needs_proba=True, e...  pred_proba   \n",
       "recall           make_scorer(recall_score, average=weighted)        pred   \n",
       "precision     make_scorer(precision_score, average=weighted)        pred   \n",
       "f1                   make_scorer(f1_score, average=weighted)        pred   \n",
       "kappa                         make_scorer(cohen_kappa_score)        pred   \n",
       "mcc                           make_scorer(matthews_corrcoef)        pred   \n",
       "\n",
       "                                                    Args  Greater is Better  \\\n",
       "ID                                                                            \n",
       "acc                                                   {}               True   \n",
       "auc        {'average': 'weighted', 'multi_class': 'ovr'}               True   \n",
       "recall                           {'average': 'weighted'}               True   \n",
       "precision                        {'average': 'weighted'}               True   \n",
       "f1                               {'average': 'weighted'}               True   \n",
       "kappa                                                 {}               True   \n",
       "mcc                                                   {}               True   \n",
       "\n",
       "           Multiclass  Custom  \n",
       "ID                             \n",
       "acc              True   False  \n",
       "auc              True   False  \n",
       "recall           True   False  \n",
       "precision        True   False  \n",
       "f1               True   False  \n",
       "kappa            True   False  \n",
       "mcc              True   False  "
      ]
     },
     "execution_count": 12,
     "metadata": {},
     "output_type": "execute_result"
    }
   ],
   "source": [
    "all_metrics"
   ]
  },
  {
   "cell_type": "markdown",
   "id": "3dba642e",
   "metadata": {},
   "source": [
    "### 분류 모델 확인하기 "
   ]
  },
  {
   "cell_type": "code",
   "execution_count": 13,
   "id": "7b99e492",
   "metadata": {},
   "outputs": [
    {
     "data": {
      "text/html": [
       "<div>\n",
       "<style scoped>\n",
       "    .dataframe tbody tr th:only-of-type {\n",
       "        vertical-align: middle;\n",
       "    }\n",
       "\n",
       "    .dataframe tbody tr th {\n",
       "        vertical-align: top;\n",
       "    }\n",
       "\n",
       "    .dataframe thead th {\n",
       "        text-align: right;\n",
       "    }\n",
       "</style>\n",
       "<table border=\"1\" class=\"dataframe\">\n",
       "  <thead>\n",
       "    <tr style=\"text-align: right;\">\n",
       "      <th></th>\n",
       "      <th>Name</th>\n",
       "      <th>Reference</th>\n",
       "      <th>Turbo</th>\n",
       "    </tr>\n",
       "    <tr>\n",
       "      <th>ID</th>\n",
       "      <th></th>\n",
       "      <th></th>\n",
       "      <th></th>\n",
       "    </tr>\n",
       "  </thead>\n",
       "  <tbody>\n",
       "    <tr>\n",
       "      <th>lr</th>\n",
       "      <td>Logistic Regression</td>\n",
       "      <td>sklearn.linear_model._logistic.LogisticRegression</td>\n",
       "      <td>True</td>\n",
       "    </tr>\n",
       "    <tr>\n",
       "      <th>knn</th>\n",
       "      <td>K Neighbors Classifier</td>\n",
       "      <td>sklearn.neighbors._classification.KNeighborsCl...</td>\n",
       "      <td>True</td>\n",
       "    </tr>\n",
       "    <tr>\n",
       "      <th>nb</th>\n",
       "      <td>Naive Bayes</td>\n",
       "      <td>sklearn.naive_bayes.GaussianNB</td>\n",
       "      <td>True</td>\n",
       "    </tr>\n",
       "    <tr>\n",
       "      <th>dt</th>\n",
       "      <td>Decision Tree Classifier</td>\n",
       "      <td>sklearn.tree._classes.DecisionTreeClassifier</td>\n",
       "      <td>True</td>\n",
       "    </tr>\n",
       "    <tr>\n",
       "      <th>svm</th>\n",
       "      <td>SVM - Linear Kernel</td>\n",
       "      <td>sklearn.linear_model._stochastic_gradient.SGDC...</td>\n",
       "      <td>True</td>\n",
       "    </tr>\n",
       "    <tr>\n",
       "      <th>rbfsvm</th>\n",
       "      <td>SVM - Radial Kernel</td>\n",
       "      <td>sklearn.svm._classes.SVC</td>\n",
       "      <td>False</td>\n",
       "    </tr>\n",
       "    <tr>\n",
       "      <th>gpc</th>\n",
       "      <td>Gaussian Process Classifier</td>\n",
       "      <td>sklearn.gaussian_process._gpc.GaussianProcessC...</td>\n",
       "      <td>False</td>\n",
       "    </tr>\n",
       "    <tr>\n",
       "      <th>mlp</th>\n",
       "      <td>MLP Classifier</td>\n",
       "      <td>sklearn.neural_network._multilayer_perceptron....</td>\n",
       "      <td>False</td>\n",
       "    </tr>\n",
       "    <tr>\n",
       "      <th>ridge</th>\n",
       "      <td>Ridge Classifier</td>\n",
       "      <td>sklearn.linear_model._ridge.RidgeClassifier</td>\n",
       "      <td>True</td>\n",
       "    </tr>\n",
       "    <tr>\n",
       "      <th>rf</th>\n",
       "      <td>Random Forest Classifier</td>\n",
       "      <td>sklearn.ensemble._forest.RandomForestClassifier</td>\n",
       "      <td>True</td>\n",
       "    </tr>\n",
       "    <tr>\n",
       "      <th>qda</th>\n",
       "      <td>Quadratic Discriminant Analysis</td>\n",
       "      <td>sklearn.discriminant_analysis.QuadraticDiscrim...</td>\n",
       "      <td>True</td>\n",
       "    </tr>\n",
       "    <tr>\n",
       "      <th>ada</th>\n",
       "      <td>Ada Boost Classifier</td>\n",
       "      <td>sklearn.ensemble._weight_boosting.AdaBoostClas...</td>\n",
       "      <td>True</td>\n",
       "    </tr>\n",
       "    <tr>\n",
       "      <th>gbc</th>\n",
       "      <td>Gradient Boosting Classifier</td>\n",
       "      <td>sklearn.ensemble._gb.GradientBoostingClassifier</td>\n",
       "      <td>True</td>\n",
       "    </tr>\n",
       "    <tr>\n",
       "      <th>lda</th>\n",
       "      <td>Linear Discriminant Analysis</td>\n",
       "      <td>sklearn.discriminant_analysis.LinearDiscrimina...</td>\n",
       "      <td>True</td>\n",
       "    </tr>\n",
       "    <tr>\n",
       "      <th>et</th>\n",
       "      <td>Extra Trees Classifier</td>\n",
       "      <td>sklearn.ensemble._forest.ExtraTreesClassifier</td>\n",
       "      <td>True</td>\n",
       "    </tr>\n",
       "    <tr>\n",
       "      <th>xgboost</th>\n",
       "      <td>Extreme Gradient Boosting</td>\n",
       "      <td>xgboost.sklearn.XGBClassifier</td>\n",
       "      <td>True</td>\n",
       "    </tr>\n",
       "    <tr>\n",
       "      <th>lightgbm</th>\n",
       "      <td>Light Gradient Boosting Machine</td>\n",
       "      <td>lightgbm.sklearn.LGBMClassifier</td>\n",
       "      <td>True</td>\n",
       "    </tr>\n",
       "    <tr>\n",
       "      <th>catboost</th>\n",
       "      <td>CatBoost Classifier</td>\n",
       "      <td>catboost.core.CatBoostClassifier</td>\n",
       "      <td>True</td>\n",
       "    </tr>\n",
       "    <tr>\n",
       "      <th>dummy</th>\n",
       "      <td>Dummy Classifier</td>\n",
       "      <td>sklearn.dummy.DummyClassifier</td>\n",
       "      <td>True</td>\n",
       "    </tr>\n",
       "  </tbody>\n",
       "</table>\n",
       "</div>"
      ],
      "text/plain": [
       "                                     Name  \\\n",
       "ID                                          \n",
       "lr                    Logistic Regression   \n",
       "knn                K Neighbors Classifier   \n",
       "nb                            Naive Bayes   \n",
       "dt               Decision Tree Classifier   \n",
       "svm                   SVM - Linear Kernel   \n",
       "rbfsvm                SVM - Radial Kernel   \n",
       "gpc           Gaussian Process Classifier   \n",
       "mlp                        MLP Classifier   \n",
       "ridge                    Ridge Classifier   \n",
       "rf               Random Forest Classifier   \n",
       "qda       Quadratic Discriminant Analysis   \n",
       "ada                  Ada Boost Classifier   \n",
       "gbc          Gradient Boosting Classifier   \n",
       "lda          Linear Discriminant Analysis   \n",
       "et                 Extra Trees Classifier   \n",
       "xgboost         Extreme Gradient Boosting   \n",
       "lightgbm  Light Gradient Boosting Machine   \n",
       "catboost              CatBoost Classifier   \n",
       "dummy                    Dummy Classifier   \n",
       "\n",
       "                                                  Reference  Turbo  \n",
       "ID                                                                  \n",
       "lr        sklearn.linear_model._logistic.LogisticRegression   True  \n",
       "knn       sklearn.neighbors._classification.KNeighborsCl...   True  \n",
       "nb                           sklearn.naive_bayes.GaussianNB   True  \n",
       "dt             sklearn.tree._classes.DecisionTreeClassifier   True  \n",
       "svm       sklearn.linear_model._stochastic_gradient.SGDC...   True  \n",
       "rbfsvm                             sklearn.svm._classes.SVC  False  \n",
       "gpc       sklearn.gaussian_process._gpc.GaussianProcessC...  False  \n",
       "mlp       sklearn.neural_network._multilayer_perceptron....  False  \n",
       "ridge           sklearn.linear_model._ridge.RidgeClassifier   True  \n",
       "rf          sklearn.ensemble._forest.RandomForestClassifier   True  \n",
       "qda       sklearn.discriminant_analysis.QuadraticDiscrim...   True  \n",
       "ada       sklearn.ensemble._weight_boosting.AdaBoostClas...   True  \n",
       "gbc         sklearn.ensemble._gb.GradientBoostingClassifier   True  \n",
       "lda       sklearn.discriminant_analysis.LinearDiscrimina...   True  \n",
       "et            sklearn.ensemble._forest.ExtraTreesClassifier   True  \n",
       "xgboost                       xgboost.sklearn.XGBClassifier   True  \n",
       "lightgbm                    lightgbm.sklearn.LGBMClassifier   True  \n",
       "catboost                   catboost.core.CatBoostClassifier   True  \n",
       "dummy                         sklearn.dummy.DummyClassifier   True  "
      ]
     },
     "execution_count": 13,
     "metadata": {},
     "output_type": "execute_result"
    }
   ],
   "source": [
    "models()"
   ]
  },
  {
   "cell_type": "markdown",
   "id": "db5667fb",
   "metadata": {},
   "source": [
    "##  모델 생성하기 "
   ]
  },
  {
   "cell_type": "code",
   "execution_count": 14,
   "id": "738ae567",
   "metadata": {},
   "outputs": [
    {
     "data": {
      "text/html": [],
      "text/plain": [
       "<IPython.core.display.HTML object>"
      ]
     },
     "metadata": {},
     "output_type": "display_data"
    },
    {
     "data": {
      "text/html": [
       "<style type=\"text/css\">\n",
       "#T_6b8c2_row10_col0, #T_6b8c2_row10_col1, #T_6b8c2_row10_col2, #T_6b8c2_row10_col3, #T_6b8c2_row10_col4, #T_6b8c2_row10_col5, #T_6b8c2_row10_col6 {\n",
       "  background: yellow;\n",
       "}\n",
       "</style>\n",
       "<table id=\"T_6b8c2\">\n",
       "  <thead>\n",
       "    <tr>\n",
       "      <th class=\"blank level0\" >&nbsp;</th>\n",
       "      <th id=\"T_6b8c2_level0_col0\" class=\"col_heading level0 col0\" >Accuracy</th>\n",
       "      <th id=\"T_6b8c2_level0_col1\" class=\"col_heading level0 col1\" >AUC</th>\n",
       "      <th id=\"T_6b8c2_level0_col2\" class=\"col_heading level0 col2\" >Recall</th>\n",
       "      <th id=\"T_6b8c2_level0_col3\" class=\"col_heading level0 col3\" >Prec.</th>\n",
       "      <th id=\"T_6b8c2_level0_col4\" class=\"col_heading level0 col4\" >F1</th>\n",
       "      <th id=\"T_6b8c2_level0_col5\" class=\"col_heading level0 col5\" >Kappa</th>\n",
       "      <th id=\"T_6b8c2_level0_col6\" class=\"col_heading level0 col6\" >MCC</th>\n",
       "    </tr>\n",
       "    <tr>\n",
       "      <th class=\"index_name level0\" >Fold</th>\n",
       "      <th class=\"blank col0\" >&nbsp;</th>\n",
       "      <th class=\"blank col1\" >&nbsp;</th>\n",
       "      <th class=\"blank col2\" >&nbsp;</th>\n",
       "      <th class=\"blank col3\" >&nbsp;</th>\n",
       "      <th class=\"blank col4\" >&nbsp;</th>\n",
       "      <th class=\"blank col5\" >&nbsp;</th>\n",
       "      <th class=\"blank col6\" >&nbsp;</th>\n",
       "    </tr>\n",
       "  </thead>\n",
       "  <tbody>\n",
       "    <tr>\n",
       "      <th id=\"T_6b8c2_level0_row0\" class=\"row_heading level0 row0\" >0</th>\n",
       "      <td id=\"T_6b8c2_row0_col0\" class=\"data row0 col0\" >0.9474</td>\n",
       "      <td id=\"T_6b8c2_row0_col1\" class=\"data row0 col1\" >0.9556</td>\n",
       "      <td id=\"T_6b8c2_row0_col2\" class=\"data row0 col2\" >0.8889</td>\n",
       "      <td id=\"T_6b8c2_row0_col3\" class=\"data row0 col3\" >1.0000</td>\n",
       "      <td id=\"T_6b8c2_row0_col4\" class=\"data row0 col4\" >0.9412</td>\n",
       "      <td id=\"T_6b8c2_row0_col5\" class=\"data row0 col5\" >0.8939</td>\n",
       "      <td id=\"T_6b8c2_row0_col6\" class=\"data row0 col6\" >0.8989</td>\n",
       "    </tr>\n",
       "    <tr>\n",
       "      <th id=\"T_6b8c2_level0_row1\" class=\"row_heading level0 row1\" >1</th>\n",
       "      <td id=\"T_6b8c2_row1_col0\" class=\"data row1 col0\" >0.8421</td>\n",
       "      <td id=\"T_6b8c2_row1_col1\" class=\"data row1 col1\" >0.9222</td>\n",
       "      <td id=\"T_6b8c2_row1_col2\" class=\"data row1 col2\" >0.6667</td>\n",
       "      <td id=\"T_6b8c2_row1_col3\" class=\"data row1 col3\" >1.0000</td>\n",
       "      <td id=\"T_6b8c2_row1_col4\" class=\"data row1 col4\" >0.8000</td>\n",
       "      <td id=\"T_6b8c2_row1_col5\" class=\"data row1 col5\" >0.6780</td>\n",
       "      <td id=\"T_6b8c2_row1_col6\" class=\"data row1 col6\" >0.7161</td>\n",
       "    </tr>\n",
       "    <tr>\n",
       "      <th id=\"T_6b8c2_level0_row2\" class=\"row_heading level0 row2\" >2</th>\n",
       "      <td id=\"T_6b8c2_row2_col0\" class=\"data row2 col0\" >0.7895</td>\n",
       "      <td id=\"T_6b8c2_row2_col1\" class=\"data row2 col1\" >0.8611</td>\n",
       "      <td id=\"T_6b8c2_row2_col2\" class=\"data row2 col2\" >0.7778</td>\n",
       "      <td id=\"T_6b8c2_row2_col3\" class=\"data row2 col3\" >0.7778</td>\n",
       "      <td id=\"T_6b8c2_row2_col4\" class=\"data row2 col4\" >0.7778</td>\n",
       "      <td id=\"T_6b8c2_row2_col5\" class=\"data row2 col5\" >0.5778</td>\n",
       "      <td id=\"T_6b8c2_row2_col6\" class=\"data row2 col6\" >0.5778</td>\n",
       "    </tr>\n",
       "    <tr>\n",
       "      <th id=\"T_6b8c2_level0_row3\" class=\"row_heading level0 row3\" >3</th>\n",
       "      <td id=\"T_6b8c2_row3_col0\" class=\"data row3 col0\" >0.6842</td>\n",
       "      <td id=\"T_6b8c2_row3_col1\" class=\"data row3 col1\" >0.7833</td>\n",
       "      <td id=\"T_6b8c2_row3_col2\" class=\"data row3 col2\" >0.4444</td>\n",
       "      <td id=\"T_6b8c2_row3_col3\" class=\"data row3 col3\" >0.8000</td>\n",
       "      <td id=\"T_6b8c2_row3_col4\" class=\"data row3 col4\" >0.5714</td>\n",
       "      <td id=\"T_6b8c2_row3_col5\" class=\"data row3 col5\" >0.3523</td>\n",
       "      <td id=\"T_6b8c2_row3_col6\" class=\"data row3 col6\" >0.3906</td>\n",
       "    </tr>\n",
       "    <tr>\n",
       "      <th id=\"T_6b8c2_level0_row4\" class=\"row_heading level0 row4\" >4</th>\n",
       "      <td id=\"T_6b8c2_row4_col0\" class=\"data row4 col0\" >0.8947</td>\n",
       "      <td id=\"T_6b8c2_row4_col1\" class=\"data row4 col1\" >0.8864</td>\n",
       "      <td id=\"T_6b8c2_row4_col2\" class=\"data row4 col2\" >0.8750</td>\n",
       "      <td id=\"T_6b8c2_row4_col3\" class=\"data row4 col3\" >0.8750</td>\n",
       "      <td id=\"T_6b8c2_row4_col4\" class=\"data row4 col4\" >0.8750</td>\n",
       "      <td id=\"T_6b8c2_row4_col5\" class=\"data row4 col5\" >0.7841</td>\n",
       "      <td id=\"T_6b8c2_row4_col6\" class=\"data row4 col6\" >0.7841</td>\n",
       "    </tr>\n",
       "    <tr>\n",
       "      <th id=\"T_6b8c2_level0_row5\" class=\"row_heading level0 row5\" >5</th>\n",
       "      <td id=\"T_6b8c2_row5_col0\" class=\"data row5 col0\" >0.6316</td>\n",
       "      <td id=\"T_6b8c2_row5_col1\" class=\"data row5 col1\" >0.7500</td>\n",
       "      <td id=\"T_6b8c2_row5_col2\" class=\"data row5 col2\" >0.7500</td>\n",
       "      <td id=\"T_6b8c2_row5_col3\" class=\"data row5 col3\" >0.5455</td>\n",
       "      <td id=\"T_6b8c2_row5_col4\" class=\"data row5 col4\" >0.6316</td>\n",
       "      <td id=\"T_6b8c2_row5_col5\" class=\"data row5 col5\" >0.2811</td>\n",
       "      <td id=\"T_6b8c2_row5_col6\" class=\"data row5 col6\" >0.2955</td>\n",
       "    </tr>\n",
       "    <tr>\n",
       "      <th id=\"T_6b8c2_level0_row6\" class=\"row_heading level0 row6\" >6</th>\n",
       "      <td id=\"T_6b8c2_row6_col0\" class=\"data row6 col0\" >0.9474</td>\n",
       "      <td id=\"T_6b8c2_row6_col1\" class=\"data row6 col1\" >1.0000</td>\n",
       "      <td id=\"T_6b8c2_row6_col2\" class=\"data row6 col2\" >0.8750</td>\n",
       "      <td id=\"T_6b8c2_row6_col3\" class=\"data row6 col3\" >1.0000</td>\n",
       "      <td id=\"T_6b8c2_row6_col4\" class=\"data row6 col4\" >0.9333</td>\n",
       "      <td id=\"T_6b8c2_row6_col5\" class=\"data row6 col5\" >0.8902</td>\n",
       "      <td id=\"T_6b8c2_row6_col6\" class=\"data row6 col6\" >0.8956</td>\n",
       "    </tr>\n",
       "    <tr>\n",
       "      <th id=\"T_6b8c2_level0_row7\" class=\"row_heading level0 row7\" >7</th>\n",
       "      <td id=\"T_6b8c2_row7_col0\" class=\"data row7 col0\" >0.6842</td>\n",
       "      <td id=\"T_6b8c2_row7_col1\" class=\"data row7 col1\" >0.7898</td>\n",
       "      <td id=\"T_6b8c2_row7_col2\" class=\"data row7 col2\" >0.5000</td>\n",
       "      <td id=\"T_6b8c2_row7_col3\" class=\"data row7 col3\" >0.6667</td>\n",
       "      <td id=\"T_6b8c2_row7_col4\" class=\"data row7 col4\" >0.5714</td>\n",
       "      <td id=\"T_6b8c2_row7_col5\" class=\"data row7 col5\" >0.3294</td>\n",
       "      <td id=\"T_6b8c2_row7_col6\" class=\"data row7 col6\" >0.3380</td>\n",
       "    </tr>\n",
       "    <tr>\n",
       "      <th id=\"T_6b8c2_level0_row8\" class=\"row_heading level0 row8\" >8</th>\n",
       "      <td id=\"T_6b8c2_row8_col0\" class=\"data row8 col0\" >0.8947</td>\n",
       "      <td id=\"T_6b8c2_row8_col1\" class=\"data row8 col1\" >0.9659</td>\n",
       "      <td id=\"T_6b8c2_row8_col2\" class=\"data row8 col2\" >0.8750</td>\n",
       "      <td id=\"T_6b8c2_row8_col3\" class=\"data row8 col3\" >0.8750</td>\n",
       "      <td id=\"T_6b8c2_row8_col4\" class=\"data row8 col4\" >0.8750</td>\n",
       "      <td id=\"T_6b8c2_row8_col5\" class=\"data row8 col5\" >0.7841</td>\n",
       "      <td id=\"T_6b8c2_row8_col6\" class=\"data row8 col6\" >0.7841</td>\n",
       "    </tr>\n",
       "    <tr>\n",
       "      <th id=\"T_6b8c2_level0_row9\" class=\"row_heading level0 row9\" >9</th>\n",
       "      <td id=\"T_6b8c2_row9_col0\" class=\"data row9 col0\" >0.9444</td>\n",
       "      <td id=\"T_6b8c2_row9_col1\" class=\"data row9 col1\" >0.9875</td>\n",
       "      <td id=\"T_6b8c2_row9_col2\" class=\"data row9 col2\" >0.8750</td>\n",
       "      <td id=\"T_6b8c2_row9_col3\" class=\"data row9 col3\" >1.0000</td>\n",
       "      <td id=\"T_6b8c2_row9_col4\" class=\"data row9 col4\" >0.9333</td>\n",
       "      <td id=\"T_6b8c2_row9_col5\" class=\"data row9 col5\" >0.8861</td>\n",
       "      <td id=\"T_6b8c2_row9_col6\" class=\"data row9 col6\" >0.8919</td>\n",
       "    </tr>\n",
       "    <tr>\n",
       "      <th id=\"T_6b8c2_level0_row10\" class=\"row_heading level0 row10\" >Mean</th>\n",
       "      <td id=\"T_6b8c2_row10_col0\" class=\"data row10 col0\" >0.8260</td>\n",
       "      <td id=\"T_6b8c2_row10_col1\" class=\"data row10 col1\" >0.8902</td>\n",
       "      <td id=\"T_6b8c2_row10_col2\" class=\"data row10 col2\" >0.7528</td>\n",
       "      <td id=\"T_6b8c2_row10_col3\" class=\"data row10 col3\" >0.8540</td>\n",
       "      <td id=\"T_6b8c2_row10_col4\" class=\"data row10 col4\" >0.7910</td>\n",
       "      <td id=\"T_6b8c2_row10_col5\" class=\"data row10 col5\" >0.6457</td>\n",
       "      <td id=\"T_6b8c2_row10_col6\" class=\"data row10 col6\" >0.6572</td>\n",
       "    </tr>\n",
       "    <tr>\n",
       "      <th id=\"T_6b8c2_level0_row11\" class=\"row_heading level0 row11\" >Std</th>\n",
       "      <td id=\"T_6b8c2_row11_col0\" class=\"data row11 col0\" >0.1151</td>\n",
       "      <td id=\"T_6b8c2_row11_col1\" class=\"data row11 col1\" >0.0864</td>\n",
       "      <td id=\"T_6b8c2_row11_col2\" class=\"data row11 col2\" >0.1566</td>\n",
       "      <td id=\"T_6b8c2_row11_col3\" class=\"data row11 col3\" >0.1501</td>\n",
       "      <td id=\"T_6b8c2_row11_col4\" class=\"data row11 col4\" >0.1412</td>\n",
       "      <td id=\"T_6b8c2_row11_col5\" class=\"data row11 col5\" >0.2328</td>\n",
       "      <td id=\"T_6b8c2_row11_col6\" class=\"data row11 col6\" >0.2272</td>\n",
       "    </tr>\n",
       "  </tbody>\n",
       "</table>\n"
      ],
      "text/plain": [
       "<pandas.io.formats.style.Styler at 0x16644b190>"
      ]
     },
     "metadata": {},
     "output_type": "display_data"
    },
    {
     "data": {
      "text/html": [],
      "text/plain": [
       "<IPython.core.display.HTML object>"
      ]
     },
     "metadata": {},
     "output_type": "display_data"
    }
   ],
   "source": [
    "random_forest = create_model('rf')"
   ]
  },
  {
   "cell_type": "markdown",
   "id": "20968359",
   "metadata": {},
   "source": [
    "## 모델 성능을 그래프로 확인하기 : auc"
   ]
  },
  {
   "cell_type": "code",
   "execution_count": 15,
   "id": "e2bbd1c4",
   "metadata": {},
   "outputs": [
    {
     "data": {
      "text/html": [],
      "text/plain": [
       "<IPython.core.display.HTML object>"
      ]
     },
     "metadata": {},
     "output_type": "display_data"
    },
    {
     "data": {
      "image/png": "[encoded data removed]",
      "text/plain": [
       "<Figure size 800x550 with 1 Axes>"
      ]
     },
     "metadata": {},
     "output_type": "display_data"
    }
   ],
   "source": [
    "plot_model(random_forest, plot = 'auc')"
   ]
  },
  {
   "cell_type": "markdown",
   "id": "a57cf2b1",
   "metadata": {},
   "source": [
    "## 모델의 성능을 확인하기 : 혼동행렬"
   ]
  },
  {
   "cell_type": "code",
   "execution_count": 16,
   "id": "abc9a4fc",
   "metadata": {},
   "outputs": [
    {
     "data": {
      "text/html": [],
      "text/plain": [
       "<IPython.core.display.HTML object>"
      ]
     },
     "metadata": {},
     "output_type": "display_data"
    },
    {
     "data": {
      "image/png": "[encoded data removed]",
      "text/plain": [
       "<Figure size 800x550 with 1 Axes>"
      ]
     },
     "metadata": {},
     "output_type": "display_data"
    }
   ],
   "source": [
    "plot_model(random_forest , plot = 'confusion_matrix')"
   ]
  },
  {
   "cell_type": "markdown",
   "id": "8dc476dc",
   "metadata": {},
   "source": [
    "### 혼동행렬을 퍼센트로 확인하기 "
   ]
  },
  {
   "cell_type": "code",
   "execution_count": 17,
   "id": "4d81437e",
   "metadata": {},
   "outputs": [
    {
     "data": {
      "text/html": [],
      "text/plain": [
       "<IPython.core.display.HTML object>"
      ]
     },
     "metadata": {},
     "output_type": "display_data"
    },
    {
     "data": {
      "image/png": "[encoded data removed]",
      "text/plain": [
       "<Figure size 800x550 with 1 Axes>"
      ]
     },
     "metadata": {},
     "output_type": "display_data"
    }
   ],
   "source": [
    "plot_model(random_forest , plot = 'confusion_matrix', plot_kwargs = {'percent' : True})"
   ]
  },
  {
   "cell_type": "markdown",
   "id": "71edeb8f",
   "metadata": {},
   "source": [
    "### 모델의 분포를 확인하기 "
   ]
  },
  {
   "cell_type": "code",
   "execution_count": 18,
   "id": "8a8e70f7",
   "metadata": {},
   "outputs": [
    {
     "data": {
      "text/html": [],
      "text/plain": [
       "<IPython.core.display.HTML object>"
      ]
     },
     "metadata": {},
     "output_type": "display_data"
    },
    {
     "data": {
      "image/png": "[encoded data removed]",
      "text/plain": [
       "<Figure size 800x550 with 1 Axes>"
      ]
     },
     "metadata": {},
     "output_type": "display_data"
    }
   ],
   "source": [
    "plot_model(random_forest, plot = 'boundary', use_train_data = True)"
   ]
  },
  {
   "cell_type": "markdown",
   "id": "21c1e55c",
   "metadata": {},
   "source": [
    "### 모델의 중요 피처 정보 확인 "
   ]
  },
  {
   "cell_type": "code",
   "execution_count": 19,
   "id": "ed69fd84",
   "metadata": {},
   "outputs": [
    {
     "data": {
      "text/html": [],
      "text/plain": [
       "<IPython.core.display.HTML object>"
      ]
     },
     "metadata": {},
     "output_type": "display_data"
    },
    {
     "data": {
      "image/png": "[encoded data removed]",
      "text/plain": [
       "<Figure size 800x500 with 1 Axes>"
      ]
     },
     "metadata": {},
     "output_type": "display_data"
    }
   ],
   "source": [
    "plot_model(random_forest, plot = 'feature_all', use_train_data = True)"
   ]
  },
  {
   "cell_type": "markdown",
   "id": "ddbf8a05",
   "metadata": {},
   "source": [
    "## 예측을 확인하기 "
   ]
  },
  {
   "cell_type": "code",
   "execution_count": 20,
   "id": "bf4d9479",
   "metadata": {},
   "outputs": [
    {
     "data": {
      "text/html": [
       "<style type=\"text/css\">\n",
       "</style>\n",
       "<table id=\"T_528e6\">\n",
       "  <thead>\n",
       "    <tr>\n",
       "      <th class=\"blank level0\" >&nbsp;</th>\n",
       "      <th id=\"T_528e6_level0_col0\" class=\"col_heading level0 col0\" >Model</th>\n",
       "      <th id=\"T_528e6_level0_col1\" class=\"col_heading level0 col1\" >Accuracy</th>\n",
       "      <th id=\"T_528e6_level0_col2\" class=\"col_heading level0 col2\" >AUC</th>\n",
       "      <th id=\"T_528e6_level0_col3\" class=\"col_heading level0 col3\" >Recall</th>\n",
       "      <th id=\"T_528e6_level0_col4\" class=\"col_heading level0 col4\" >Prec.</th>\n",
       "      <th id=\"T_528e6_level0_col5\" class=\"col_heading level0 col5\" >F1</th>\n",
       "      <th id=\"T_528e6_level0_col6\" class=\"col_heading level0 col6\" >Kappa</th>\n",
       "      <th id=\"T_528e6_level0_col7\" class=\"col_heading level0 col7\" >MCC</th>\n",
       "    </tr>\n",
       "  </thead>\n",
       "  <tbody>\n",
       "    <tr>\n",
       "      <th id=\"T_528e6_level0_row0\" class=\"row_heading level0 row0\" >0</th>\n",
       "      <td id=\"T_528e6_row0_col0\" class=\"data row0 col0\" >Random Forest Classifier</td>\n",
       "      <td id=\"T_528e6_row0_col1\" class=\"data row0 col1\" >0.8272</td>\n",
       "      <td id=\"T_528e6_row0_col2\" class=\"data row0 col2\" >0.9386</td>\n",
       "      <td id=\"T_528e6_row0_col3\" class=\"data row0 col3\" >0.7500</td>\n",
       "      <td id=\"T_528e6_row0_col4\" class=\"data row0 col4\" >0.8438</td>\n",
       "      <td id=\"T_528e6_row0_col5\" class=\"data row0 col5\" >0.7941</td>\n",
       "      <td id=\"T_528e6_row0_col6\" class=\"data row0 col6\" >0.6461</td>\n",
       "      <td id=\"T_528e6_row0_col7\" class=\"data row0 col7\" >0.6494</td>\n",
       "    </tr>\n",
       "  </tbody>\n",
       "</table>\n"
      ],
      "text/plain": [
       "<pandas.io.formats.style.Styler at 0x16641bc70>"
      ]
     },
     "metadata": {},
     "output_type": "display_data"
    }
   ],
   "source": [
    "predictions = predict_model(random_forest)"
   ]
  },
  {
   "cell_type": "code",
   "execution_count": 24,
   "id": "ca910ac0",
   "metadata": {},
   "outputs": [
    {
     "data": {
      "text/html": [
       "<div>\n",
       "<style scoped>\n",
       "    .dataframe tbody tr th:only-of-type {\n",
       "        vertical-align: middle;\n",
       "    }\n",
       "\n",
       "    .dataframe tbody tr th {\n",
       "        vertical-align: top;\n",
       "    }\n",
       "\n",
       "    .dataframe thead th {\n",
       "        text-align: right;\n",
       "    }\n",
       "</style>\n",
       "<table border=\"1\" class=\"dataframe\">\n",
       "  <thead>\n",
       "    <tr style=\"text-align: right;\">\n",
       "      <th></th>\n",
       "      <th>Disease</th>\n",
       "      <th>prediction_label</th>\n",
       "      <th>prediction_score</th>\n",
       "    </tr>\n",
       "  </thead>\n",
       "  <tbody>\n",
       "    <tr>\n",
       "      <th>169</th>\n",
       "      <td>1</td>\n",
       "      <td>0</td>\n",
       "      <td>0.59</td>\n",
       "    </tr>\n",
       "    <tr>\n",
       "      <th>251</th>\n",
       "      <td>0</td>\n",
       "      <td>0</td>\n",
       "      <td>1.00</td>\n",
       "    </tr>\n",
       "    <tr>\n",
       "      <th>228</th>\n",
       "      <td>0</td>\n",
       "      <td>0</td>\n",
       "      <td>0.78</td>\n",
       "    </tr>\n",
       "    <tr>\n",
       "      <th>236</th>\n",
       "      <td>0</td>\n",
       "      <td>0</td>\n",
       "      <td>0.90</td>\n",
       "    </tr>\n",
       "    <tr>\n",
       "      <th>52</th>\n",
       "      <td>0</td>\n",
       "      <td>0</td>\n",
       "      <td>0.67</td>\n",
       "    </tr>\n",
       "  </tbody>\n",
       "</table>\n",
       "</div>"
      ],
      "text/plain": [
       "     Disease  prediction_label  prediction_score\n",
       "169        1                 0              0.59\n",
       "251        0                 0              1.00\n",
       "228        0                 0              0.78\n",
       "236        0                 0              0.90\n",
       "52         0                 0              0.67"
      ]
     },
     "execution_count": 24,
     "metadata": {},
     "output_type": "execute_result"
    }
   ],
   "source": [
    "predictions[['Disease','prediction_label','prediction_score']].head()"
   ]
  },
  {
   "cell_type": "code",
   "execution_count": null,
   "id": "fb6cf4ef",
   "metadata": {},
   "outputs": [],
   "source": []
  },
  {
   "cell_type": "code",
   "execution_count": null,
   "id": "29561c2a",
   "metadata": {},
   "outputs": [],
   "source": []
  }
 ],
 "metadata": {
  "kernelspec": {
   "display_name": "Python 3 (ipykernel)",
   "language": "python",
   "name": "python3"
  },
  "language_info": {
   "codemirror_mode": {
    "name": "ipython",
    "version": 3
   },
   "file_extension": ".py",
   "mimetype": "text/x-python",
   "name": "python",
   "nbconvert_exporter": "python",
   "pygments_lexer": "ipython3",
   "version": "3.9.16"
  }
 },
 "nbformat": 4,
 "nbformat_minor": 5
}
